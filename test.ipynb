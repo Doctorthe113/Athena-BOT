{
 "cells": [
  {
   "cell_type": "code",
   "execution_count": 10,
   "metadata": {},
   "outputs": [],
   "source": [
    "import requests"
   ]
  },
  {
   "cell_type": "code",
   "execution_count": 21,
   "metadata": {},
   "outputs": [
    {
     "data": {
      "text/plain": [
       "('demon',\n",
       " '/ˈdiː.mən/',\n",
       " 'https://api.dictionaryapi.dev/media/pronunciations/en/demon-uk.mp3',\n",
       " 'unknown',\n",
       " '\\n**An evil supernatural spirit.**\\nnoun')"
      ]
     },
     "execution_count": 21,
     "metadata": {},
     "output_type": "execute_result"
    }
   ],
   "source": [
    "dictionaryApi = \"https://api.dictionaryapi.dev/api/v2/entries/en/\"\n",
    "def dictionary(query):\n",
    "    vocub = requests.get(dictionaryApi + query).json()\n",
    "    word = vocub[0][\"word\"]\n",
    "    pronounciation = vocub[0][\"phonetics\"][0].get(\"audio\", \"unknown\")\n",
    "    phonetics = vocub[0][\"phonetics\"][0].get(\"text\", \"unknown\")\n",
    "    origin = vocub[0].get(\"origin\", \"unknown\")\n",
    "    meanings = vocub[0][\"meanings\"]\n",
    "    definition = \"\"\n",
    "    for i in meanings:\n",
    "        definition += \"\\n\" + \"**\" + i[\"definitions\"][0][\"definition\"] + \\\n",
    "                    \"**\" + \"\\n\" + i[\"partOfSpeech\"]\n",
    "    return word, phonetics, pronounciation, origin, definition\n",
    "\n",
    "dictionary(query=\"demon\")"
   ]
  }
 ],
 "metadata": {
  "kernelspec": {
   "display_name": ".venv",
   "language": "python",
   "name": "python3"
  },
  "language_info": {
   "codemirror_mode": {
    "name": "ipython",
    "version": 3
   },
   "file_extension": ".py",
   "mimetype": "text/x-python",
   "name": "python",
   "nbconvert_exporter": "python",
   "pygments_lexer": "ipython3",
   "version": "3.11.7"
  }
 },
 "nbformat": 4,
 "nbformat_minor": 2
}
